{
 "metadata": {
  "celltoolbar": "Slideshow",
  "name": "",
  "signature": "sha256:1f7d3d4ce005c80594f927fe3ce79cb43c238e1aac927ac08225b6d1f158eae9"
 },
 "nbformat": 3,
 "nbformat_minor": 0,
 "worksheets": [
  {
   "cells": [
    {
     "cell_type": "heading",
     "level": 1,
     "metadata": {
      "slideshow": {
       "slide_type": "slide"
      }
     },
     "source": [
      "<img src=http://continuum.io/media/img/continuum_analytics_logo.png align=\"right\" width=\"20%\">\n",
      "Conda and some fun @ContinuumIO projects"
     ]
    },
    {
     "cell_type": "markdown",
     "metadata": {},
     "source": [
      "Christine Doig, Data Scientist\n",
      "\n",
      "@ch_doig\n",
      "\n",
      "PyBCN, November 2014"
     ]
    },
    {
     "cell_type": "markdown",
     "metadata": {
      "slideshow": {
       "slide_type": "slide"
      }
     },
     "source": [
      "# Conda\n",
      "[conda.pydata.org](conda.pydata.org)\n",
      "\n",
      "A cross-platform Python-agnostic binary package manager: Linux, OSX, Windows.\n",
      "\n",
      "~ homebrew + pip + virtualenv -> conda\n",
      "\n",
      "Available:\n",
      "Anaconda: [https://store.continuum.io/cshop/anaconda/](https://store.continuum.io/cshop/anaconda/)\n",
      "\n",
      "Miniconda (conda + python): [http://conda.pydata.org/miniconda.html](https://store.continuum.io/cshop/anaconda/)"
     ]
    },
    {
     "cell_type": "markdown",
     "metadata": {
      "slideshow": {
       "slide_type": "subslide"
      }
     },
     "source": [
      "# Create an environment\n",
      "conda create -n pybcn python=2.7 numpy=1.9\n",
      "\n",
      "# Activate environment\n",
      "source activate pybcn\n",
      "\n",
      "# What packages are in the enviroment?\n",
      "conda list\n",
      "\n",
      "# Store the file\n",
      "conda list -e > myenv.txt\n",
      "\n",
      "# Deactivate environment\n",
      "source deactivate"
     ]
    },
    {
     "cell_type": "markdown",
     "metadata": {
      "slideshow": {
       "slide_type": "subslide"
      }
     },
     "source": [
      "# Recreate the environment\n",
      "conda create --name newpybcn --file myenv.txt\n",
      "\n",
      "# Activate new enviroment\n",
      "source activate newpybcn\n",
      "\n",
      "# Installing other packages\n",
      "conda install bokeh mongodb\n",
      "mongod --dbpath ~/data/db/\n",
      "\n",
      "# Switching Python interpreters\n",
      "source activate test\n",
      "conda install python=3.4\n",
      "conda update --all"
     ]
    },
    {
     "cell_type": "markdown",
     "metadata": {
      "slideshow": {
       "slide_type": "subslide"
      }
     },
     "source": [
      "# Back to my newpybcn\n",
      "source activate newpybcn\n",
      "\n",
      "# Install more weird things\n",
      "conda install scala\n",
      "conda install spark\n",
      "\n",
      "anaconda/envs/pybcn2/./bin/pyspark\n",
      "\n",
      "# Show all my environments\n",
      "conda info -e"
     ]
    },
    {
     "cell_type": "markdown",
     "metadata": {
      "slideshow": {
       "slide_type": "slide"
      }
     },
     "source": [
      "#Binstar\n",
      "\n",
      "[http://docs.binstar.org/](http://docs.binstar.org/)\n",
      "\n",
      "Package management service which allows you to host software packages of all kinds.\n",
      "\n",
      "Binstar is a social website that allows you to test, create or distribute software packages.\n",
      "\n",
      "~Github for binaries/Multi-software PyPI + TravisCI"
     ]
    },
    {
     "cell_type": "code",
     "collapsed": false,
     "input": [
      "from IPython.display import HTML\n",
      "HTML('<iframe src=http://binstar.org width=900 height=350></iframe>')"
     ],
     "language": "python",
     "metadata": {
      "slideshow": {
       "slide_type": "subslide"
      }
     },
     "outputs": [
      {
       "html": [
        "<iframe src=http://binstar.org width=900 height=350></iframe>"
       ],
       "metadata": {},
       "output_type": "pyout",
       "prompt_number": 4,
       "text": [
        "<IPython.core.display.HTML at 0x103b9bf90>"
       ]
      }
     ],
     "prompt_number": 4
    },
    {
     "cell_type": "code",
     "collapsed": false,
     "input": [
      "from IPython.display import HTML\n",
      "HTML('<iframe src=http://docs.binstar.org/examples.html width=900 height=350></iframe>')"
     ],
     "language": "python",
     "metadata": {
      "slideshow": {
       "slide_type": "subslide"
      }
     },
     "outputs": [
      {
       "html": [
        "<iframe src=http://docs.binstar.org/examples.html width=900 height=350></iframe>"
       ],
       "metadata": {},
       "output_type": "pyout",
       "prompt_number": 7,
       "text": [
        "<IPython.core.display.HTML at 0x103bb52d0>"
       ]
      }
     ],
     "prompt_number": 7
    },
    {
     "cell_type": "markdown",
     "metadata": {
      "slideshow": {
       "slide_type": "slide"
      }
     },
     "source": [
      "# Bokeh\n",
      "\n",
      "[http://bokeh.pydata.org/](http://bokeh.pydata.org/)\n",
      "\n",
      "A Python interactive visualization library that targets modern web browsers.\n",
      "\n",
      "~D3.js without having to write JS :)\n",
      "\n",
      "[http://nbviewer.ipython.org/](http://nbviewer.ipython.org/)\n",
      "\n",
      "[http://nbviewer.ipython.org/github/bokeh/bokeh-notebooks/blob/master/index.ipynb](http://nbviewer.ipython.org/github/bokeh/bokeh-notebooks/blob/master/index.ipynb)"
     ]
    },
    {
     "cell_type": "markdown",
     "metadata": {
      "slideshow": {
       "slide_type": "subslide"
      }
     },
     "source": [
      "#Bokeh Examples (I)\n",
      "\n",
      "## Interactivity - Sliders app\n",
      "\n",
      "cd /Users/cdoig/anaconda/envs/pybcn2/Examples/bokeh/app/sliders_applet\n",
      "\n",
      "\n",
      "To view this applet directly from a bokeh server, you simply need to\n",
      "run a bokeh-server and point it at the stock example script:\n",
      "\n",
      "    bokeh-server --script sliders_app.py\n",
      "\n",
      "Now navigate to the following URL in a browser:\n",
      "\n",
      "    http://localhost:5006/bokeh/sliders"
     ]
    },
    {
     "cell_type": "markdown",
     "metadata": {
      "slideshow": {
       "slide_type": "subslide"
      }
     },
     "source": [
      "## Interactivity\n",
      "\n",
      "cd /Users/cdoig/anaconda/envs/pybcn2/Examples/bokeh/glyphs\n",
      "\n",
      "- Taylor approximation \n",
      "!Remember bokeh-server\n",
      "\n",
      "```\n",
      "python taylor_server.py\n",
      "\n",
      "python population_server.py\n",
      "```"
     ]
    },
    {
     "cell_type": "markdown",
     "metadata": {
      "slideshow": {
       "slide_type": "subslide"
      }
     },
     "source": [
      "#Bokeh Examples (II)\n",
      "\n",
      "## Charts\n",
      "\n",
      "cd /Users/cdoig/anaconda/envs/pybcn2/Examples/bokeh/charts\n",
      "\n",
      "ipython notebook"
     ]
    },
    {
     "cell_type": "markdown",
     "metadata": {
      "slideshow": {
       "slide_type": "subslide"
      }
     },
     "source": [
      "#Bokeh Examples(III)\n",
      "\n",
      "- Matplotlib compatibility\n",
      "\n",
      "ipython notebook\n",
      "\n",
      "test.ipynb\n",
      "\n",
      "- Plotting (file, server, notebook)"
     ]
    },
    {
     "cell_type": "markdown",
     "metadata": {
      "slideshow": {
       "slide_type": "slide"
      }
     },
     "source": [
      "# Blaze\n",
      "\n",
      "[http://blaze.pydata.org/docs/latest/index.html](http://blaze.pydata.org/docs/latest/index.html)\n",
      "\n",
      "Blaze provides a familiar interface to various computational resources.\n",
      "\n",
      "Blaze extends the usability of NumPy and Pandas to distributed and out-of-core computing."
     ]
    },
    {
     "cell_type": "markdown",
     "metadata": {
      "slideshow": {
       "slide_type": "slide"
      }
     },
     "source": [
      "Thanks!"
     ]
    }
   ],
   "metadata": {}
  }
 ]
}